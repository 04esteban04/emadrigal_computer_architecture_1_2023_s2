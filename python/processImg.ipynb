{
 "cells": [
  {
   "cell_type": "code",
   "execution_count": 1,
   "metadata": {},
   "outputs": [],
   "source": [
    "import cv2\n",
    "import numpy as np\n"
   ]
  },
  {
   "cell_type": "code",
   "execution_count": 9,
   "metadata": {},
   "outputs": [],
   "source": [
    "################################ Reajustar la dimesion de la imagen y la escala a gris ################################\n",
    "# Cargar la imagen\n",
    "imagen = cv2.imread('/home/daval/Escritorio/Arqui/Proyecto_1/emadrigal_computer_architecture_1_2023_s2/assets/sekiro.jpg')\n",
    "\n",
    "# Cambiar la dimensión a 640x480\n",
    "nueva_dimension = (640, 480)\n",
    "imagen_redimensionada = cv2.resize(imagen, nueva_dimension)\n",
    "\n",
    "# Convertir la imagen a escala de grises\n",
    "imagen_gris = cv2.cvtColor(imagen_redimensionada, cv2.COLOR_BGR2GRAY)\n",
    "\n",
    "# Guardar la imagen en escala de grises\n",
    "cv2.imwrite('/home/daval/Escritorio/Arqui/Proyecto_1/emadrigal_computer_architecture_1_2023_s2/assets/sekiroGris.jpg', imagen_gris)\n",
    "\n",
    "# Mostrar la imagen (opcional)\n",
    "cv2.imshow('Imagen en escala de grises', imagen_gris)\n",
    "cv2.waitKey(0)\n",
    "cv2.destroyAllWindows()"
   ]
  },
  {
   "cell_type": "code",
   "execution_count": 11,
   "metadata": {},
   "outputs": [
    {
     "data": {
      "text/plain": [
       "True"
      ]
     },
     "execution_count": 11,
     "metadata": {},
     "output_type": "execute_result"
    }
   ],
   "source": [
    "################################ Geneara bmp ################################\n",
    "imagen_gris = cv2.imread('/home/daval/Escritorio/Arqui/Proyecto_1/emadrigal_computer_architecture_1_2023_s2/assets/sekiroGris.jpg', cv2.IMREAD_GRAYSCALE)\n",
    "cv2.imwrite('/home/daval/Escritorio/Arqui/Proyecto_1/emadrigal_computer_architecture_1_2023_s2/assets/sekiroGris.bmp', imagen_gris)\n"
   ]
  },
  {
   "cell_type": "code",
   "execution_count": 12,
   "metadata": {},
   "outputs": [
    {
     "name": "stdout",
     "output_type": "stream",
     "text": [
      "Valores de píxeles guardados en 'sekiroPixeles.txt'\n"
     ]
    }
   ],
   "source": [
    "################################ Obtener txt con los pixeles de la imagen ################################\n",
    "\n",
    "# Obtener las dimensiones de la imagen\n",
    "alto, ancho = imagen_gris.shape\n",
    "\n",
    "# Crear un archivo de texto para almacenar los valores de píxeles\n",
    "archivo_txt = open('/home/daval/Escritorio/Arqui/Proyecto_1/emadrigal_computer_architecture_1_2023_s2/assets/sekiroPixeles.txt', 'w')\n",
    "\n",
    "# Iterar a través de la imagen y escribir los valores de píxeles en el archivo de texto\n",
    "for fila in range(alto):\n",
    "    for columna in range(ancho):\n",
    "        valor_pixel = imagen_gris[fila, columna]\n",
    "        archivo_txt.write(str(valor_pixel) + ' ')\n",
    "    archivo_txt.write('\\n')\n",
    "\n",
    "# Cerrar el archivo de texto\n",
    "archivo_txt.close()\n",
    "\n",
    "print(\"Valores de píxeles guardados en 'sekiroPixeles.txt'\")\n"
   ]
  },
  {
   "cell_type": "code",
   "execution_count": 14,
   "metadata": {},
   "outputs": [
    {
     "name": "stdout",
     "output_type": "stream",
     "text": [
      "Los valores con efecto rippling se han guardado en 'sekiroRippling.txt'.\n"
     ]
    }
   ],
   "source": [
    "################################ Efecto rippling ################################\n",
    "\n",
    "# Cargar los valores de píxeles desde el archivo de texto\n",
    "with open('/home/daval/Escritorio/Arqui/Proyecto_1/emadrigal_computer_architecture_1_2023_s2/assets/sekiroPixeles.txt', 'r') as archivo_txt:\n",
    "    lineas = archivo_txt.readlines()\n",
    "\n",
    "# Crear un nuevo archivo de texto para guardar los valores con efecto rippling\n",
    "archivo_rippling = open('/home/daval/Escritorio/Arqui/Proyecto_1/emadrigal_computer_architecture_1_2023_s2/assets/sekiroRippling.txt', 'w')\n",
    "\n",
    "# Parámetros para el efecto rippling\n",
    "amplitud_x = 10  # Ajusta la amplitud en dirección X según tu preferencia\n",
    "frecuencia_x = 0.1  # Ajusta la frecuencia en dirección X según tu preferencia\n",
    "amplitud_y = 10  # Ajusta la amplitud en dirección Y según tu preferencia\n",
    "frecuencia_y = 0.1  # Ajusta la frecuencia en dirección Y según tu preferencia\n",
    "\n",
    "# Aplicar el efecto rippling y escribir los nuevos valores en el archivo de texto\n",
    "for linea in lineas:\n",
    "    valores = linea.strip().split()  # Separar los valores de píxeles en la línea\n",
    "    nuevos_valores = []\n",
    "\n",
    "    for x, valor_pixel in enumerate(valores):\n",
    "        x_rippling = x + amplitud_x * np.sin(2 * np.pi * frecuencia_x * x)\n",
    "        y_rippling = amplitud_y * np.sin(2 * np.pi * frecuencia_y * x)\n",
    "        \n",
    "        x_rippling = int(np.clip(x_rippling, 0, len(valores) - 1))\n",
    "        y_rippling = int(np.clip(y_rippling, 0, len(valores) - 1))\n",
    "        nuevo_valor_pixel = valores[x_rippling]\n",
    "        nuevos_valores.append(nuevo_valor_pixel)\n",
    "\n",
    "    archivo_rippling.write(' '.join(nuevos_valores) + '\\n')\n",
    "\n",
    "# Cerrar el archivo de texto con efecto rippling\n",
    "archivo_rippling.close()\n",
    "\n",
    "print(\"Los valores con efecto rippling se han guardado en 'sekiroRippling.txt'.\")\n"
   ]
  },
  {
   "cell_type": "code",
   "execution_count": 1,
   "metadata": {},
   "outputs": [],
   "source": [
    "################################ Txt de pixeles a imagen ################################\n",
    "\n",
    "# Cargar los valores de píxeles con efecto rippling desde el archivo de texto\n",
    "with open('/home/daval/Escritorio/Arqui/Proyecto_1/emadrigal_computer_architecture_1_2023_s2/assets/sekiroRippling.txt', 'r') as archivo_rippling:\n",
    "    lineas = archivo_rippling.readlines()\n",
    "\n",
    "# Crear una lista para almacenar los valores de píxeles\n",
    "valores_pixel = []\n",
    "\n",
    "for linea in lineas:\n",
    "    valores = linea.strip().split()\n",
    "    valores_pixel.append([int(valor) for valor in valores])\n",
    "\n",
    "# Convertir la lista de valores de píxeles en una matriz NumPy\n",
    "imagen_rippling = np.array(valores_pixel, dtype=np.uint8)\n",
    "\n",
    "# Mostrar la imagen con efecto rippling\n",
    "cv2.imshow('Imagen con efecto rippling', imagen_rippling)\n",
    "cv2.waitKey(0)\n",
    "cv2.destroyAllWindows()\n"
   ]
  },
  {
   "cell_type": "markdown",
   "metadata": {},
   "source": [
    "### Testeo\n"
   ]
  },
  {
   "cell_type": "code",
   "execution_count": null,
   "metadata": {},
   "outputs": [],
   "source": [
    "import cv2\n",
    "import numpy as np\n",
    "\n",
    "def rippling_effect(image_path, amplitude=20, frequency=10):\n",
    "    # Cargar la imagen\n",
    "    image = cv2.imread(image_path)\n",
    "\n",
    "    # Obtener las dimensiones de la imagen\n",
    "    height, width, _ = image.shape\n",
    "\n",
    "    # Crear una imagen en blanco para el resultado\n",
    "    rippling_image = np.zeros_like(image)\n",
    "\n",
    "    # Aplicar el efecto rippling\n",
    "    for y in range(height):\n",
    "        for x in range(width):\n",
    "            # Calcular la nueva posición basada en el efecto rippling\n",
    "            new_x = x + amplitude * np.sin(2 * np.pi * y / frequency)\n",
    "            new_y = y\n",
    "\n",
    "            # Asegurarse de que las coordenadas estén dentro de los límites de la imagen\n",
    "            if 0 <= new_x < width and 0 <= new_y < height:\n",
    "                rippling_image[y, x] = image[int(new_y), int(new_x)]\n",
    "\n",
    "    # Mostrar la imagen con el efecto rippling\n",
    "    cv2.imshow(\"Rippling Effect\", rippling_image)\n",
    "    cv2.waitKey(0)\n",
    "    cv2.destroyAllWindows()\n",
    "\n",
    "if __name__ == \"__main__\":\n",
    "    image_path = \"/home/daval/Escritorio/Arqui/Proyecto_1/emadrigal_computer_architecture_1_2023_s2/assets/sekiroGris.jpg\"  # Reemplaza con la ruta de tu imagen\n",
    "    rippling_effect(image_path, amplitude=20, frequency=10)\n"
   ]
  }
 ],
 "metadata": {
  "kernelspec": {
   "display_name": "Python 3",
   "language": "python",
   "name": "python3"
  },
  "language_info": {
   "codemirror_mode": {
    "name": "ipython",
    "version": 3
   },
   "file_extension": ".py",
   "mimetype": "text/x-python",
   "name": "python",
   "nbconvert_exporter": "python",
   "pygments_lexer": "ipython3",
   "version": "3.10.12"
  },
  "orig_nbformat": 4
 },
 "nbformat": 4,
 "nbformat_minor": 2
}
