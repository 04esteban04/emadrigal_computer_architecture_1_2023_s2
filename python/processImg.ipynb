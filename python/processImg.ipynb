{
 "cells": [
  {
   "cell_type": "code",
   "execution_count": 5,
   "metadata": {},
   "outputs": [],
   "source": [
    "import cv2"
   ]
  },
  {
   "cell_type": "code",
   "execution_count": 6,
   "metadata": {},
   "outputs": [],
   "source": [
    "# Cargar la imagen\n",
    "imagen = cv2.imread('/home/daval/Escritorio/Arqui/Proyecto_1/assets/sekiro.jpg')\n",
    "\n",
    "# Cambiar la dimensión a 640x480\n",
    "nueva_dimension = (640, 480)\n",
    "imagen_redimensionada = cv2.resize(imagen, nueva_dimension)\n",
    "\n",
    "# Convertir la imagen a escala de grises\n",
    "imagen_gris = cv2.cvtColor(imagen_redimensionada, cv2.COLOR_BGR2GRAY)\n",
    "\n",
    "# Guardar la imagen en escala de grises\n",
    "cv2.imwrite('/home/daval/Escritorio/Arqui/Proyecto_1/assets/sekiroGris.jpg', imagen_gris)\n",
    "\n",
    "# Mostrar la imagen (opcional)\n",
    "cv2.imshow('Imagen en escala de grises', imagen_gris)\n",
    "cv2.waitKey(0)\n",
    "cv2.destroyAllWindows()"
   ]
  },
  {
   "cell_type": "code",
   "execution_count": 7,
   "metadata": {},
   "outputs": [
    {
     "data": {
      "text/plain": [
       "True"
      ]
     },
     "execution_count": 7,
     "metadata": {},
     "output_type": "execute_result"
    }
   ],
   "source": [
    "imagen_gris = cv2.imread('/home/daval/Escritorio/Arqui/Proyecto_1/assets/sekiroGris.jpg', cv2.IMREAD_GRAYSCALE)\n",
    "cv2.imwrite('/home/daval/Escritorio/Arqui/Proyecto_1/assets/sekiroGris.bmp', imagen_gris)\n"
   ]
  }
 ],
 "metadata": {
  "kernelspec": {
   "display_name": "Python 3",
   "language": "python",
   "name": "python3"
  },
  "language_info": {
   "codemirror_mode": {
    "name": "ipython",
    "version": 3
   },
   "file_extension": ".py",
   "mimetype": "text/x-python",
   "name": "python",
   "nbconvert_exporter": "python",
   "pygments_lexer": "ipython3",
   "version": "3.10.12"
  },
  "orig_nbformat": 4
 },
 "nbformat": 4,
 "nbformat_minor": 2
}
